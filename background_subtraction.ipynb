{
 "cells": [
  {
   "cell_type": "markdown",
   "metadata": {
    "id": "do2DOuPjcwOG"
   },
   "source": [
    "## 410921243 Homework 1\n",
    "1. Inpute live video from webcam.\n",
    "2. Generate and update <b>Adaptive Background Image</b> using temporal alpha blending, i.e.,  <i>B(t)=alpha*B(t-1)+(1-alpha)*I(t)</i>.\n",
    "3. Perform <b>Adaptive Background Subtraction</b>, i.e., <i>S(t)=abs(I(t)-B(t))</i>.\n",
    "4. Perform <b>Foreground Detection</b>. i.e., <i>F(t)=I(t), if S(t) > Threshold</i>\n",
    "5. Synthesis an image by keeping the foreground, and replacing the background using any virtual scene image of your choice.\n",
    "6. Show the captured image <i>I(t)</i>, the adaptive background image <i>B(t)</i>, the subtracted image <i>S(t)</i>, the foreground image <i>F(t)</i>, and the virtual systhesis image.\n",
    "6. Adjust the <i>alpha</i> value and observe the result.\n",
    "7. Any idea on how to generate a better Adaptive Background Image? Try it and compare the results.\n",
    "8. Write down your observation and comparison at the end of your code by adding an individual cell in Jupyter."
   ]
  },
  {
   "cell_type": "markdown",
   "metadata": {
    "id": "nIqdfUigcwOI"
   },
   "source": [
    " ## Adaptive Background Image, i.e., B(t)=alphaB(t-1)+(1-alpha)I(t)."
   ]
  },
  {
   "cell_type": "code",
   "execution_count": 2,
   "metadata": {
    "id": "_8uAMK7FcwOI"
   },
   "outputs": [],
   "source": [
    "# Adaptive Background Image\n",
    "\n",
    "import cv2\n",
    "\n",
    "# Open the Camera\n",
    "cap = cv2.VideoCapture(0)\n",
    "# Check if the webcam is opened correctly\n",
    "if not cap.isOpened():\n",
    "    raise IOError(\"Cannot open webcam\")\n",
    "\n",
    "# Read the background image\n",
    "ret, frame = cap.read()\n",
    "cur_background_1 = cv2.resize(frame, None, fx=0.5, fy=0.5, interpolation=cv2.INTER_AREA)\n",
    "cur_background_2 = cv2.resize(frame, None, fx=0.5, fy=0.5, interpolation=cv2.INTER_AREA)\n",
    "cur_background_3 = cv2.resize(frame, None, fx=0.5, fy=0.5, interpolation=cv2.INTER_AREA)\n",
    "\n",
    "\n",
    "while True:\n",
    "    ret, frame = cap.read()\n",
    "    cur_frame = cv2.resize(frame, None, fx=0.5, fy=0.5, interpolation=cv2.INTER_AREA)\n",
    "\n",
    "    alpha_1 = 0.9\n",
    "    alpha_2 = 0.5\n",
    "    alpha_3 = 0.2\n",
    "\n",
    "    prev_background_1 = cur_background_1\n",
    "    cur_background_1 = cv2.addWeighted(prev_background_1, alpha_1, cur_frame, 1-alpha_1, 0.0)\n",
    "\n",
    "    prev_background_2 = cur_background_2\n",
    "    cur_background_2 = cv2.addWeighted(prev_background_2, alpha_2, cur_frame, 1-alpha_2, 0.0)\n",
    "\n",
    "    prev_background_3 = cur_background_3\n",
    "    cur_background_3 = cv2.addWeighted(prev_background_3, alpha_3, cur_frame, 1-alpha_3, 0.0)\n",
    "\n",
    "    if prev_background_1 is not None:\n",
    "        cv2.imshow('captured image', cur_frame)\n",
    "        cv2.imshow('(alpha = 0.9) Adaptive Background', cur_background_1)\n",
    "        cv2.imshow('(alpha = 0.5) Adaptive Background', cur_background_2)\n",
    "        cv2.imshow('(alpha = 0.2) Adaptive Background', cur_background_3)\n",
    "    c = cv2.waitKey(1)\n",
    "    if c == 27:\n",
    "        break\n",
    "\n",
    "cap.release()\n",
    "cv2.destroyAllWindows()"
   ]
  },
  {
   "cell_type": "markdown",
   "metadata": {
    "id": "MpvG1HqbcwOJ"
   },
   "source": [
    "## Adaptive Background Subtraction, i.e., S(t)=abs(I(t)-B(t))."
   ]
  },
  {
   "cell_type": "code",
   "execution_count": 3,
   "metadata": {
    "id": "BegjclQScwOJ"
   },
   "outputs": [],
   "source": [
    "#temporal subtraction simple\n",
    "\n",
    "import cv2\n",
    "\n",
    "# Open the Camera\n",
    "cap = cv2.VideoCapture(0)\n",
    "# Check if the webcam is opened correctly\n",
    "if not cap.isOpened():\n",
    "    raise IOError(\"Cannot open webcam\")\n",
    "\n",
    "# Read the background image\n",
    "ret, frame = cap.read()\n",
    "cur_background_1 = cv2.resize(frame, None, fx=0.5, fy=0.5, interpolation=cv2.INTER_AREA)\n",
    "cur_background_2 = cv2.resize(frame, None, fx=0.5, fy=0.5, interpolation=cv2.INTER_AREA)\n",
    "cur_background_3 = cv2.resize(frame, None, fx=0.5, fy=0.5, interpolation=cv2.INTER_AREA)\n",
    "\n",
    "\n",
    "while True:\n",
    "    ret, frame = cap.read()\n",
    "    cur_frame = cv2.resize(frame, None, fx=0.5, fy=0.5, interpolation=cv2.INTER_AREA)\n",
    "\n",
    "    alpha_1 = 0.9\n",
    "    alpha_2 = 0.5\n",
    "    alpha_3 = 0.2\n",
    "\n",
    "    prev_background_1 = cur_background_1\n",
    "    cur_background_1 = cv2.addWeighted(prev_background_1, alpha_1, cur_frame, 1-alpha_1, 0.0)\n",
    "\n",
    "    prev_background_2 = cur_background_2\n",
    "    cur_background_2 = cv2.addWeighted(prev_background_2, alpha_2, cur_frame, 1-alpha_2, 0.0)\n",
    "\n",
    "    prev_background_3 = cur_background_3\n",
    "    cur_background_3 = cv2.addWeighted(prev_background_3, alpha_3, cur_frame, 1-alpha_3, 0.0)\n",
    "\n",
    "    if prev_background_1 is not None:\n",
    "        sub_background_1 = cv2.absdiff(cur_frame , cur_background_1)\n",
    "        sub_background_2 = cv2.absdiff(cur_frame , cur_background_2)\n",
    "        sub_background_3 = cv2.absdiff(cur_frame , cur_background_3)\n",
    "\n",
    "        cv2.imshow('(alpha = 0.9) Adaptive Background Subtraction', sub_background_1)\n",
    "        cv2.imshow('(alpha = 0.5) Adaptive Background Subtraction', sub_background_2)\n",
    "        cv2.imshow('(alpha = 0.2) Adaptive Background Subtraction', sub_background_3)\n",
    "    c = cv2.waitKey(1)\n",
    "    if c == 27:\n",
    "        break\n",
    "\n",
    "cap.release()\n",
    "cv2.destroyAllWindows()"
   ]
  },
  {
   "cell_type": "markdown",
   "metadata": {
    "id": "EQUYGcExcwOJ"
   },
   "source": [
    "## Foreground Detection. i.e., F(t)=I(t), if S(t) > Threshold"
   ]
  },
  {
   "cell_type": "code",
   "execution_count": 4,
   "metadata": {
    "id": "la0tJ2H-cwOK"
   },
   "outputs": [],
   "source": [
    "import cv2\n",
    "\n",
    "# Open the Camera\n",
    "cap = cv2.VideoCapture(0)\n",
    "# Check if the webcam is opened correctly\n",
    "if not cap.isOpened():\n",
    "    raise IOError(\"Cannot open webcam\")\n",
    "\n",
    "# Virtual Scene\n",
    "background = cv2.imread(\"Background (2).jpg\")\n",
    "# background_1 = cv2.imread(\"Background (2).jpg\")\n",
    "\n",
    "# Read the background image\n",
    "ret, frame = cap.read()\n",
    "cur_background_1 = cv2.resize(frame, None, fx=0.5, fy=0.5, interpolation=cv2.INTER_AREA)\n",
    "cur_background_2 = cv2.resize(frame, None, fx=0.5, fy=0.5, interpolation=cv2.INTER_AREA)\n",
    "cur_background_3 = cv2.resize(frame, None, fx=0.5, fy=0.5, interpolation=cv2.INTER_AREA)\n",
    "background = cv2.resize(background, (cur_background_1.shape[1],cur_background_1.shape[0]), fx=1, fy=1, interpolation=cv2.INTER_AREA)\n",
    "\n",
    "\n",
    "while True:\n",
    "    ret, frame = cap.read()\n",
    "    cur_frame = cv2.resize(frame, None, fx=0.5, fy=0.5, interpolation=cv2.INTER_AREA)\n",
    "\n",
    "    alpha_1 = 0.9\n",
    "    alpha_2 = 0.5\n",
    "    alpha_3 = 0.2\n",
    "\n",
    "    prev_background_1 = cur_background_1\n",
    "    cur_background_1 = cv2.addWeighted(prev_background_1, alpha_1, cur_frame, 1-alpha_1, 0.0)\n",
    "\n",
    "    prev_background_2 = cur_background_2\n",
    "    cur_background_2 = cv2.addWeighted(prev_background_2, alpha_2, cur_frame, 1-alpha_2, 0.0)\n",
    "\n",
    "    prev_background_3 = cur_background_3\n",
    "    cur_background_3 = cv2.addWeighted(prev_background_3, alpha_3, cur_frame, 1-alpha_3, 0.0)\n",
    "\n",
    "    if prev_background_1 is not None:\n",
    "\n",
    "\n",
    "        sub_background_1 = cv2.absdiff(cur_frame , cur_background_1)\n",
    "        sub_background_2 = cv2.absdiff(cur_frame , cur_background_2)\n",
    "        sub_background_3 = cv2.absdiff(cur_frame , cur_background_3)\n",
    "\n",
    "        gray_1 = cv2.cvtColor(sub_background_1, cv2.COLOR_BGR2GRAY)\n",
    "        gray_2 = cv2.cvtColor(sub_background_2, cv2.COLOR_BGR2GRAY)\n",
    "        gray_3 = cv2.cvtColor(sub_background_3, cv2.COLOR_BGR2GRAY)\n",
    "\n",
    "        h = sub_background_1.shape[0]\n",
    "        w = sub_background_1.shape[1]\n",
    "        foreground_1 = cv2.resize(background, (w,h), fx=1, fy=1, interpolation=cv2.INTER_AREA)\n",
    "        foreground_2 = cv2.resize(background, (w,h), fx=1, fy=1, interpolation=cv2.INTER_AREA)\n",
    "        foreground_3 = cv2.resize(background, (w,h), fx=1, fy=1, interpolation=cv2.INTER_AREA)\n",
    "\n",
    "        threshold = 15\n",
    "\n",
    "        for x in range(w):\n",
    "            for y in range(h):\n",
    "                if gray_1[y, x] > threshold:\n",
    "                    foreground_1[y, x] = cur_frame[y, x]\n",
    "                if gray_2[y, x] > threshold:\n",
    "                    foreground_2[y, x] = cur_frame[y, x]\n",
    "                if gray_3[y, x] > threshold:\n",
    "                    foreground_3[y, x] = cur_frame[y, x]\n",
    "\n",
    "        cv2.imshow('(alpha=0.9) Foreground Detection & Output',foreground_1)\n",
    "        cv2.imshow('(alpha=0.5) Foreground Detection & Output',foreground_2)\n",
    "        cv2.imshow('(alpha=0.2) Foreground Detection & Output',foreground_3)\n",
    "\n",
    "    c = cv2.waitKey(1)\n",
    "    if c == 27:\n",
    "        break\n",
    "\n",
    "cap.release()\n",
    "cv2.destroyAllWindows()"
   ]
  },
  {
   "cell_type": "markdown",
   "metadata": {
    "id": "XUatnUmicywi"
   },
   "source": [
    "每一個程式會分別秀出alpha=0.9, 0.5, 0.2的影像來做比較\n",
    "\n",
    "1. 最一開始時候先讀取沒有人物的背景圖片\n",
    "2. 用AddWeighted將做出B(t)\n",
    "3. 將I(t)跟B(t)做相減得出S(t)\n",
    "4. 把S(t)的畫面變成黑白的以便利用threshold找出foreground\n",
    "5. foreground先等於虛擬背景圖片，當I(t)的pixel灰階大於threshold\n",
    "6. foreground的pixel會等於I(t)的pixel\n",
    "\n",
    "在Foreground Detection的影像中可以看到當alpha的數值在0.9的時候比0.2跟0.5的結果好很多\n"
   ]
  }
 ],
 "metadata": {
  "colab": {
   "provenance": []
  },
  "kernelspec": {
   "display_name": "Python 3 (ipykernel)",
   "language": "python",
   "name": "python3"
  },
  "language_info": {
   "codemirror_mode": {
    "name": "ipython",
    "version": 3
   },
   "file_extension": ".py",
   "mimetype": "text/x-python",
   "name": "python",
   "nbconvert_exporter": "python",
   "pygments_lexer": "ipython3",
   "version": "3.11.7"
  }
 },
 "nbformat": 4,
 "nbformat_minor": 4
}
